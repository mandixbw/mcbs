{
 "cells": [
  {
   "cell_type": "markdown",
   "metadata": {},
   "source": [
    "# Exploratory Analysis of Cost and Utilization Data, 2001 - 2016\n",
    "\n",
    "### Overview of the Three Different Levels of Summarization\n",
    "\n",
    "#### Event Level\n",
    "The individual event level provides payers, costs, and utilization data at the most granular level. There's Event Level data for dental (DUE), facility (FAE), medical provider (MPE), inpatient hospital (IPE), outpatient hospital (OPE), instituitional events (IUE), and prescription medicine events (PME).\n",
    "\n",
    "#### Person Summary Level  (PS)\n",
    "Summarizes all payers and costs across service categories and summarizes type of service amounts. \"These records show only one total for each person, service, and payer\"\n",
    "\n",
    "#### Service Summary Level (SS)  \n",
    "Summarizes at the service level: dental, facility, home health, hospice, medical provider, inpatient hospital, institutional, OP hospital, and prescribed medicines. If we add up all the SS categories by person, we get the PS values.\n",
    "\n",
    "\n",
    "*Note that PS and SS variables are summarized in two ways. (1) summarized from event records, (2) adjusted to compensate for Medicare covered days that were not covered by interview reference periods.*\n",
    "\n",
    "### Data Wrangling"
   ]
  },
  {
   "cell_type": "code",
   "execution_count": 205,
   "metadata": {},
   "outputs": [],
   "source": [
    "import pandas as pd"
   ]
  },
  {
   "cell_type": "markdown",
   "metadata": {},
   "source": [
    "Convert Stata dta files into python data frames:"
   ]
  },
  {
   "cell_type": "code",
   "execution_count": 206,
   "metadata": {},
   "outputs": [],
   "source": [
    "df_2001 = pd.read_stata('J:\\Geriatrics\\Geri\\MCBSProject\\Data\\Master Files\\MCBS_MASTER_2001.dta',columns = ['year', 'pamtcaid', 'pamtcare', 'pamtoop', 'pamthp', 'pamttot'])\n",
    "df_2002 = pd.read_stata('J:\\Geriatrics\\Geri\\MCBSProject\\Data\\Master Files\\MCBS_MASTER_2002.dta',columns = ['year', 'pamtcaid', 'pamtcare', 'pamtoop', 'pamthp', 'pamttot'])\n",
    "df_2003 = pd.read_stata('J:\\Geriatrics\\Geri\\MCBSProject\\Data\\Master Files\\MCBS_MASTER_2003.dta',columns = ['year', 'pamtcaid', 'pamtcare', 'pamtoop', 'pamthp', 'pamttot'])\n",
    "df_2004 = pd.read_stata('J:\\Geriatrics\\Geri\\MCBSProject\\Data\\Master Files\\MCBS_MASTER_2004.dta',columns = ['year', 'pamtcaid', 'pamtcare', 'pamtoop', 'pamthp', 'pamttot'])\n",
    "df_2005 = pd.read_stata('J:\\Geriatrics\\Geri\\MCBSProject\\Data\\Master Files\\MCBS_MASTER_2005.dta',columns = ['year', 'pamtcaid', 'pamtcare', 'pamtoop', 'pamthp', 'pamttot'])\n",
    "df_2006 = pd.read_stata('J:\\Geriatrics\\Geri\\MCBSProject\\Data\\Master Files\\MCBS_MASTER_2006.dta',columns = ['year', 'pamtcaid', 'pamtcare', 'pamtoop', 'pamthp', 'pamttot'])\n",
    "df_2007 = pd.read_stata('J:\\Geriatrics\\Geri\\MCBSProject\\Data\\Master Files\\MCBS_MASTER_2007.dta',columns = ['year', 'pamtcaid', 'pamtcare', 'pamtoop', 'pamthp', 'pamttot'])\n",
    "df_2008 = pd.read_stata('J:\\Geriatrics\\Geri\\MCBSProject\\Data\\Master Files\\MCBS_MASTER_2008.dta',columns = ['year', 'pamtcaid', 'pamtcare', 'pamtoop', 'pamthp', 'pamttot'])\n",
    "df_2009 = pd.read_stata('J:\\Geriatrics\\Geri\\MCBSProject\\Data\\Master Files\\MCBS_MASTER_2009.dta',columns = ['year', 'pamtcaid', 'pamtcare', 'pamtoop', 'pamthp', 'pamttot'])\n",
    "df_2010 = pd.read_stata('J:\\Geriatrics\\Geri\\MCBSProject\\Data\\Master Files\\MCBS_MASTER_2010.dta',columns = ['year', 'pamtcaid', 'pamtcare', 'pamtoop', 'pamthp', 'pamttot'])\n",
    "df_2011 = pd.read_stata('J:\\Geriatrics\\Geri\\MCBSProject\\Data\\Master Files\\MCBS_MASTER_2011.dta',columns = ['year', 'pamtcaid', 'pamtcare', 'pamtoop', 'pamthp', 'pamttot'])\n",
    "df_2012 = pd.read_stata('J:\\Geriatrics\\Geri\\MCBSProject\\Data\\Master Files\\MCBS_MASTER_2012.dta',columns = ['year', 'pamtcaid', 'pamtcare', 'pamtoop', 'pamthp', 'pamttot'])\n",
    "df_2013 = pd.read_stata('J:\\Geriatrics\\Geri\\MCBSProject\\Data\\Master Files\\MCBS_MASTER_2013.dta',columns = ['year', 'pamtcaid', 'pamtcare', 'pamtoop', 'pamthp', 'pamttot'])\n",
    "df_2015 = pd.read_stata('J:\\Geriatrics\\Geri\\MCBSProject\\Data\\Master Files\\MCBS_MASTER_2015.dta',columns = ['year', 'pamtcaid', 'pamtcare', 'pamtoop', 'pamthp', 'pamttot'])\n",
    "df_2016 = pd.read_stata('J:\\Geriatrics\\Geri\\MCBSProject\\Data\\Master Files\\MCBS_MASTER_2016.dta',columns = ['year', 'pamtcaid', 'pamtcare', 'pamtoop', 'pamthp', 'pamttot'])\n",
    "\n",
    "#Learn how to loop in Python*"
   ]
  },
  {
   "cell_type": "markdown",
   "metadata": {},
   "source": [
    "Append yearly data frames (aka vertically concatenating):"
   ]
  },
  {
   "cell_type": "code",
   "execution_count": 207,
   "metadata": {},
   "outputs": [],
   "source": [
    "df = pd.concat([df_2001,df_2002, df_2003, df_2004, df_2005, df_2006, df_2007, df_2008, df_2009, df_2010, df_2011, df_2012, df_2013, df_2015, df_2016], sort = True)"
   ]
  },
  {
   "cell_type": "markdown",
   "metadata": {},
   "source": [
    "Tabulate number of Medicare Beneficiaries by year:"
   ]
  },
  {
   "cell_type": "code",
   "execution_count": 208,
   "metadata": {},
   "outputs": [
    {
     "data": {
      "text/plain": [
       "2001.0    17931\n",
       "2002.0    17739\n",
       "2003.0    17428\n",
       "2004.0    16994\n",
       "2005.0    17095\n",
       "2006.0    17561\n",
       "2007.0    18066\n",
       "2008.0    15777\n",
       "2009.0    15946\n",
       "2010.0    16079\n",
       "2011.0    16331\n",
       "2012.0    16454\n",
       "2013.0    16174\n",
       "2015.0    14068\n",
       "2016.0    14778\n",
       "Name: year, dtype: int64"
      ]
     },
     "execution_count": 208,
     "metadata": {},
     "output_type": "execute_result"
    }
   ],
   "source": [
    "df['year'].value_counts(sort = False)"
   ]
  },
  {
   "cell_type": "markdown",
   "metadata": {},
   "source": [
    "Aggregate expenses by year:"
   ]
  },
  {
   "cell_type": "code",
   "execution_count": 209,
   "metadata": {},
   "outputs": [],
   "source": [
    "df_agg = df.groupby('year')['pamtcaid', 'pamtcare', 'pamtoop', 'pamthp', 'pamttot'].sum()"
   ]
  },
  {
   "cell_type": "code",
   "execution_count": 210,
   "metadata": {},
   "outputs": [
    {
     "data": {
      "text/html": [
       "<div>\n",
       "<style scoped>\n",
       "    .dataframe tbody tr th:only-of-type {\n",
       "        vertical-align: middle;\n",
       "    }\n",
       "\n",
       "    .dataframe tbody tr th {\n",
       "        vertical-align: top;\n",
       "    }\n",
       "\n",
       "    .dataframe thead th {\n",
       "        text-align: right;\n",
       "    }\n",
       "</style>\n",
       "<table border=\"1\" class=\"dataframe\">\n",
       "  <thead>\n",
       "    <tr style=\"text-align: right;\">\n",
       "      <th></th>\n",
       "      <th>Medicaid</th>\n",
       "      <th>Medicare</th>\n",
       "      <th>Out-of-pocket</th>\n",
       "      <th>Hospice</th>\n",
       "      <th>Total Payments</th>\n",
       "    </tr>\n",
       "    <tr>\n",
       "      <th>year</th>\n",
       "      <th></th>\n",
       "      <th></th>\n",
       "      <th></th>\n",
       "      <th></th>\n",
       "      <th></th>\n",
       "    </tr>\n",
       "  </thead>\n",
       "  <tbody>\n",
       "    <tr>\n",
       "      <th>2001.0</th>\n",
       "      <td>25801959.83</td>\n",
       "      <td>6.617137e+07</td>\n",
       "      <td>32427593.66</td>\n",
       "      <td>1497622.00</td>\n",
       "      <td>1.577664e+08</td>\n",
       "    </tr>\n",
       "    <tr>\n",
       "      <th>2002.0</th>\n",
       "      <td>24781234.29</td>\n",
       "      <td>7.266633e+07</td>\n",
       "      <td>32767338.11</td>\n",
       "      <td>1798149.00</td>\n",
       "      <td>1.653949e+08</td>\n",
       "    </tr>\n",
       "    <tr>\n",
       "      <th>2003.0</th>\n",
       "      <td>23612135.95</td>\n",
       "      <td>7.543495e+07</td>\n",
       "      <td>33297818.92</td>\n",
       "      <td>2106381.00</td>\n",
       "      <td>1.657107e+08</td>\n",
       "    </tr>\n",
       "    <tr>\n",
       "      <th>2004.0</th>\n",
       "      <td>24950294.40</td>\n",
       "      <td>7.887197e+07</td>\n",
       "      <td>33059816.44</td>\n",
       "      <td>2495619.00</td>\n",
       "      <td>1.706724e+08</td>\n",
       "    </tr>\n",
       "    <tr>\n",
       "      <th>2005.0</th>\n",
       "      <td>27682469.48</td>\n",
       "      <td>8.212589e+07</td>\n",
       "      <td>33390803.54</td>\n",
       "      <td>2704711.00</td>\n",
       "      <td>1.804134e+08</td>\n",
       "    </tr>\n",
       "    <tr>\n",
       "      <th>2006.0</th>\n",
       "      <td>23008380.02</td>\n",
       "      <td>9.393004e+07</td>\n",
       "      <td>34638652.06</td>\n",
       "      <td>3233805.00</td>\n",
       "      <td>1.892037e+08</td>\n",
       "    </tr>\n",
       "    <tr>\n",
       "      <th>2007.0</th>\n",
       "      <td>22978786.00</td>\n",
       "      <td>1.010042e+08</td>\n",
       "      <td>35520596.40</td>\n",
       "      <td>3131986.00</td>\n",
       "      <td>1.965307e+08</td>\n",
       "    </tr>\n",
       "    <tr>\n",
       "      <th>2008.0</th>\n",
       "      <td>22797479.10</td>\n",
       "      <td>1.001328e+08</td>\n",
       "      <td>33046755.49</td>\n",
       "      <td>3716489.00</td>\n",
       "      <td>1.949927e+08</td>\n",
       "    </tr>\n",
       "    <tr>\n",
       "      <th>2009.0</th>\n",
       "      <td>20162192.72</td>\n",
       "      <td>9.504289e+07</td>\n",
       "      <td>30368659.29</td>\n",
       "      <td>3570999.00</td>\n",
       "      <td>1.799208e+08</td>\n",
       "    </tr>\n",
       "    <tr>\n",
       "      <th>2010.0</th>\n",
       "      <td>22447138.99</td>\n",
       "      <td>1.010770e+08</td>\n",
       "      <td>31617113.91</td>\n",
       "      <td>4053857.00</td>\n",
       "      <td>1.875158e+08</td>\n",
       "    </tr>\n",
       "    <tr>\n",
       "      <th>2011.0</th>\n",
       "      <td>20394438.74</td>\n",
       "      <td>9.817805e+07</td>\n",
       "      <td>32800345.26</td>\n",
       "      <td>3875212.00</td>\n",
       "      <td>1.871501e+08</td>\n",
       "    </tr>\n",
       "    <tr>\n",
       "      <th>2012.0</th>\n",
       "      <td>22684231.83</td>\n",
       "      <td>1.017076e+08</td>\n",
       "      <td>36681378.41</td>\n",
       "      <td>4604672.00</td>\n",
       "      <td>2.038580e+08</td>\n",
       "    </tr>\n",
       "    <tr>\n",
       "      <th>2013.0</th>\n",
       "      <td>22725061.55</td>\n",
       "      <td>1.054903e+08</td>\n",
       "      <td>36275299.19</td>\n",
       "      <td>4510705.00</td>\n",
       "      <td>2.100732e+08</td>\n",
       "    </tr>\n",
       "    <tr>\n",
       "      <th>2015.0</th>\n",
       "      <td>23737188.48</td>\n",
       "      <td>1.011781e+08</td>\n",
       "      <td>38955678.60</td>\n",
       "      <td>4851558.72</td>\n",
       "      <td>1.988602e+08</td>\n",
       "    </tr>\n",
       "    <tr>\n",
       "      <th>2016.0</th>\n",
       "      <td>22142732.02</td>\n",
       "      <td>8.213484e+07</td>\n",
       "      <td>35253538.59</td>\n",
       "      <td>4500369.79</td>\n",
       "      <td>1.699985e+08</td>\n",
       "    </tr>\n",
       "  </tbody>\n",
       "</table>\n",
       "</div>"
      ],
      "text/plain": [
       "           Medicaid      Medicare  Out-of-pocket     Hospice  Total Payments\n",
       "year                                                                        \n",
       "2001.0  25801959.83  6.617137e+07    32427593.66  1497622.00    1.577664e+08\n",
       "2002.0  24781234.29  7.266633e+07    32767338.11  1798149.00    1.653949e+08\n",
       "2003.0  23612135.95  7.543495e+07    33297818.92  2106381.00    1.657107e+08\n",
       "2004.0  24950294.40  7.887197e+07    33059816.44  2495619.00    1.706724e+08\n",
       "2005.0  27682469.48  8.212589e+07    33390803.54  2704711.00    1.804134e+08\n",
       "2006.0  23008380.02  9.393004e+07    34638652.06  3233805.00    1.892037e+08\n",
       "2007.0  22978786.00  1.010042e+08    35520596.40  3131986.00    1.965307e+08\n",
       "2008.0  22797479.10  1.001328e+08    33046755.49  3716489.00    1.949927e+08\n",
       "2009.0  20162192.72  9.504289e+07    30368659.29  3570999.00    1.799208e+08\n",
       "2010.0  22447138.99  1.010770e+08    31617113.91  4053857.00    1.875158e+08\n",
       "2011.0  20394438.74  9.817805e+07    32800345.26  3875212.00    1.871501e+08\n",
       "2012.0  22684231.83  1.017076e+08    36681378.41  4604672.00    2.038580e+08\n",
       "2013.0  22725061.55  1.054903e+08    36275299.19  4510705.00    2.100732e+08\n",
       "2015.0  23737188.48  1.011781e+08    38955678.60  4851558.72    1.988602e+08\n",
       "2016.0  22142732.02  8.213484e+07    35253538.59  4500369.79    1.699985e+08"
      ]
     },
     "execution_count": 210,
     "metadata": {},
     "output_type": "execute_result"
    }
   ],
   "source": [
    "df_renamed = df_agg.rename(columns={\"pamtcaid\": \"Medicaid\", \"pamtcare\": \"Medicare\", \"pamtoop\": \"Out-of-pocket\", 'pamthp': 'Hospice', 'pamttot': 'Total Payments'})\n",
    "df_renamed.head(15)"
   ]
  },
  {
   "cell_type": "markdown",
   "metadata": {},
   "source": [
    "### Time-series Line Plot "
   ]
  },
  {
   "cell_type": "code",
   "execution_count": 224,
   "metadata": {},
   "outputs": [
    {
     "data": {
      "text/plain": [
       "<matplotlib.axes._subplots.AxesSubplot at 0x30df49e8>"
      ]
     },
     "execution_count": 224,
     "metadata": {},
     "output_type": "execute_result"
    },
    {
     "data": {
      "image/png": "[encoded data removed]",
      "text/plain": [
       "<Figure size 1080x576 with 1 Axes>"
      ]
     },
     "metadata": {
      "needs_background": "light"
     },
     "output_type": "display_data"
    }
   ],
   "source": [
    "df_renamed.plot(\n",
    "    kind = 'line',\n",
    "    figsize=(15,8),\n",
    "    fontsize=12,\n",
    "    ylim=(0,225000000)\n",
    "    )\n",
    "    "
   ]
  }
 ],
 "metadata": {
  "kernelspec": {
   "display_name": "Python 3",
   "language": "python",
   "name": "python3"
  },
  "language_info": {
   "codemirror_mode": {
    "name": "ipython",
    "version": 3
   },
   "file_extension": ".py",
   "mimetype": "text/x-python",
   "name": "python",
   "nbconvert_exporter": "python",
   "pygments_lexer": "ipython3",
   "version": "3.7.3"
  }
 },
 "nbformat": 4,
 "nbformat_minor": 2
}
